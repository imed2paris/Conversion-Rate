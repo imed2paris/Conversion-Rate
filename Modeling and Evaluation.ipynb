{
 "cells": [
  {
   "cell_type": "markdown",
   "metadata": {},
   "source": [
    "# Modeling and Evaluation"
   ]
  },
  {
   "cell_type": "code",
   "execution_count": 1,
   "metadata": {},
   "outputs": [],
   "source": [
    "### ALL THE IMPORTS NEEDED FOR THIS PHASE\n",
    "\n",
    "# Data wrangling\n",
    "import pandas as pd\n",
    "\n",
    "# Data visualization\n",
    "import matplotlib.pyplot as plt\n",
    "import seaborn as sns\n",
    "\n",
    "# Classification algorithms\n",
    "from sklearn.linear_model import LogisticRegression\n",
    "from sklearn.tree import DecisionTreeClassifier\n",
    "from sklearn.ensemble import RandomForestClassifier\n",
    "\n",
    "# Cross-validation\n",
    "from sklearn.model_selection import GridSearchCV\n",
    "\n",
    "# Understanding the results of an evaluation\n",
    "from sklearn.metrics import plot_confusion_matrix, classification_report\n",
    "from sklearn.metrics import recall_score, precision_score, roc_auc_score, roc_curve\n",
    "\n",
    "import warnings\n",
    "warnings.filterwarnings('ignore')"
   ]
  },
  {
   "cell_type": "code",
   "execution_count": 2,
   "metadata": {},
   "outputs": [],
   "source": [
    "X_train = pd.read_csv(\"X_train.csv\")\n",
    "y_train = pd.read_csv(\"y_train.csv\", header=None)\n",
    "X_test = pd.read_csv(\"X_test.csv\")\n",
    "y_test = pd.read_csv(\"y_test.csv\", header=None)"
   ]
  },
  {
   "cell_type": "code",
   "execution_count": 3,
   "metadata": {},
   "outputs": [
    {
     "name": "stdout",
     "output_type": "stream",
     "text": [
      "<class 'pandas.core.frame.DataFrame'>\n",
      "RangeIndex: 16318 entries, 0 to 16317\n",
      "Data columns (total 8 columns):\n",
      "age                    16318 non-null float64\n",
      "new_user               16318 non-null int64\n",
      "total_pages_visited    16318 non-null float64\n",
      "country_Germany        16318 non-null int64\n",
      "country_UK             16318 non-null int64\n",
      "country_US             16318 non-null int64\n",
      "source_Direct          16318 non-null int64\n",
      "source_Seo             16318 non-null int64\n",
      "dtypes: float64(2), int64(6)\n",
      "memory usage: 1020.0 KB\n"
     ]
    }
   ],
   "source": [
    "X_train.info()"
   ]
  },
  {
   "cell_type": "code",
   "execution_count": 4,
   "metadata": {},
   "outputs": [
    {
     "data": {
      "text/plain": [
       "((16318, 8), (4080, 8), (16318, 1), (4080, 1))"
      ]
     },
     "execution_count": 4,
     "metadata": {},
     "output_type": "execute_result"
    }
   ],
   "source": [
    "X_train.shape, X_test.shape, y_train.shape, y_test.shape"
   ]
  },
  {
   "cell_type": "code",
   "execution_count": 5,
   "metadata": {},
   "outputs": [
    {
     "data": {
      "text/html": [
       "<div>\n",
       "<style scoped>\n",
       "    .dataframe tbody tr th:only-of-type {\n",
       "        vertical-align: middle;\n",
       "    }\n",
       "\n",
       "    .dataframe tbody tr th {\n",
       "        vertical-align: top;\n",
       "    }\n",
       "\n",
       "    .dataframe thead th {\n",
       "        text-align: right;\n",
       "    }\n",
       "</style>\n",
       "<table border=\"1\" class=\"dataframe\">\n",
       "  <thead>\n",
       "    <tr style=\"text-align: right;\">\n",
       "      <th></th>\n",
       "      <th>age</th>\n",
       "      <th>new_user</th>\n",
       "      <th>total_pages_visited</th>\n",
       "      <th>country_Germany</th>\n",
       "      <th>country_UK</th>\n",
       "      <th>country_US</th>\n",
       "      <th>source_Direct</th>\n",
       "      <th>source_Seo</th>\n",
       "    </tr>\n",
       "  </thead>\n",
       "  <tbody>\n",
       "    <tr>\n",
       "      <th>0</th>\n",
       "      <td>-0.204283</td>\n",
       "      <td>0</td>\n",
       "      <td>-0.588531</td>\n",
       "      <td>0</td>\n",
       "      <td>0</td>\n",
       "      <td>0</td>\n",
       "      <td>0</td>\n",
       "      <td>1</td>\n",
       "    </tr>\n",
       "    <tr>\n",
       "      <th>1</th>\n",
       "      <td>0.176354</td>\n",
       "      <td>1</td>\n",
       "      <td>-0.918939</td>\n",
       "      <td>0</td>\n",
       "      <td>1</td>\n",
       "      <td>0</td>\n",
       "      <td>0</td>\n",
       "      <td>1</td>\n",
       "    </tr>\n",
       "    <tr>\n",
       "      <th>2</th>\n",
       "      <td>1.191385</td>\n",
       "      <td>1</td>\n",
       "      <td>-0.753735</td>\n",
       "      <td>0</td>\n",
       "      <td>0</td>\n",
       "      <td>1</td>\n",
       "      <td>0</td>\n",
       "      <td>1</td>\n",
       "    </tr>\n",
       "    <tr>\n",
       "      <th>3</th>\n",
       "      <td>-1.346193</td>\n",
       "      <td>0</td>\n",
       "      <td>-0.092918</td>\n",
       "      <td>0</td>\n",
       "      <td>0</td>\n",
       "      <td>1</td>\n",
       "      <td>1</td>\n",
       "      <td>0</td>\n",
       "    </tr>\n",
       "    <tr>\n",
       "      <th>4</th>\n",
       "      <td>0.303233</td>\n",
       "      <td>0</td>\n",
       "      <td>0.898306</td>\n",
       "      <td>0</td>\n",
       "      <td>1</td>\n",
       "      <td>0</td>\n",
       "      <td>0</td>\n",
       "      <td>1</td>\n",
       "    </tr>\n",
       "  </tbody>\n",
       "</table>\n",
       "</div>"
      ],
      "text/plain": [
       "        age  new_user  total_pages_visited  country_Germany  country_UK  \\\n",
       "0 -0.204283         0            -0.588531                0           0   \n",
       "1  0.176354         1            -0.918939                0           1   \n",
       "2  1.191385         1            -0.753735                0           0   \n",
       "3 -1.346193         0            -0.092918                0           0   \n",
       "4  0.303233         0             0.898306                0           1   \n",
       "\n",
       "   country_US  source_Direct  source_Seo  \n",
       "0           0              0           1  \n",
       "1           0              0           1  \n",
       "2           1              0           1  \n",
       "3           1              1           0  \n",
       "4           0              0           1  "
      ]
     },
     "execution_count": 5,
     "metadata": {},
     "output_type": "execute_result"
    }
   ],
   "source": [
    "X_train.head()"
   ]
  },
  {
   "cell_type": "markdown",
   "metadata": {},
   "source": [
    "## Classification algorithms\n",
    "\n",
    "* We recall that we are in a supervised learning problem where we seek to predict the outputs of a dichotomous variable, namely __converted__.\n",
    "* For the continuation, we will call class 0 of variable __converted__ the negative class, and class 1 will be referred to as the positive class. "
   ]
  },
  {
   "cell_type": "markdown",
   "metadata": {},
   "source": [
    "### Logistic Regression"
   ]
  },
  {
   "cell_type": "code",
   "execution_count": 6,
   "metadata": {},
   "outputs": [
    {
     "data": {
      "text/plain": [
       "{'C': 1.0,\n",
       " 'class_weight': None,\n",
       " 'dual': False,\n",
       " 'fit_intercept': True,\n",
       " 'intercept_scaling': 1,\n",
       " 'l1_ratio': None,\n",
       " 'max_iter': 100,\n",
       " 'multi_class': 'auto',\n",
       " 'n_jobs': None,\n",
       " 'penalty': 'l2',\n",
       " 'random_state': None,\n",
       " 'solver': 'lbfgs',\n",
       " 'tol': 0.0001,\n",
       " 'verbose': 0,\n",
       " 'warm_start': False}"
      ]
     },
     "execution_count": 6,
     "metadata": {},
     "output_type": "execute_result"
    }
   ],
   "source": [
    "log_reg = LogisticRegression()\n",
    "log_reg.fit(X_train, y_train)\n",
    "log_reg.get_params()"
   ]
  },
  {
   "cell_type": "code",
   "execution_count": 7,
   "metadata": {},
   "outputs": [
    {
     "name": "stdout",
     "output_type": "stream",
     "text": [
      "Logistic Regression score on training set : 0.9404951587204314\n",
      "Logistic Regression score on test set : 0.9387254901960784\n"
     ]
    }
   ],
   "source": [
    "print(\"Logistic Regression score on training set :\", log_reg.score(X_train, y_train))\n",
    "print(\"Logistic Regression score on test set :\", log_reg.score(X_test, y_test))"
   ]
  },
  {
   "cell_type": "code",
   "execution_count": 8,
   "metadata": {},
   "outputs": [
    {
     "data": {
      "image/png": "[encoded data removed]",
      "text/plain": [
       "<Figure size 1440x432 with 4 Axes>"
      ]
     },
     "metadata": {},
     "output_type": "display_data"
    }
   ],
   "source": [
    "fig, axs = plt.subplots(figsize=(20,6), nrows=1, ncols=2)\n",
    "plot_confusion_matrix(log_reg, X_train, y_train, ax=axs[0], normalize='true', values_format='.4f', cmap=plt.cm.Reds)\n",
    "axs[0].set_title(\"Confusion matrix of the Logistic Regression on the training set\")\n",
    "axs[0].set_xlabel(\"Predicted Converted\")\n",
    "axs[0].set_ylabel(\"True Converted\")\n",
    "\n",
    "plot_confusion_matrix(log_reg, X_test, y_test, ax=axs[1], normalize='true', values_format='.4f', cmap=plt.cm.Greens)\n",
    "axs[1].set_title(\"Confusion matrix of the Logistic Regression on the test set\")\n",
    "axs[1].set_xlabel(\"Predicted Converted\")\n",
    "axs[1].set_ylabel(\"True Converted\")\n",
    "plt.show()"
   ]
  },
  {
   "cell_type": "markdown",
   "metadata": {},
   "source": [
    "* On training set, our logistic regression model recognizes 94.19% of individuals from the negative class and 93.91% from the positive class.\n",
    "* On test set, the model predicts the right class of membership for 94.71% of individuals from the negative class and 93.04% of users from the positive class."
   ]
  },
  {
   "cell_type": "code",
   "execution_count": 10,
   "metadata": {},
   "outputs": [
    {
     "name": "stdout",
     "output_type": "stream",
     "text": [
      "Classification metrics on training set\n",
      "              precision    recall  f1-score   support\n",
      "\n",
      "           0       0.94      0.94      0.94      8160\n",
      "           1       0.94      0.94      0.94      8158\n",
      "\n",
      "    accuracy                           0.94     16318\n",
      "   macro avg       0.94      0.94      0.94     16318\n",
      "weighted avg       0.94      0.94      0.94     16318\n",
      "\n",
      "\n",
      "Classification metrics on test set\n",
      "              precision    recall  f1-score   support\n",
      "\n",
      "           0       0.93      0.95      0.94      2040\n",
      "           1       0.95      0.93      0.94      2040\n",
      "\n",
      "    accuracy                           0.94      4080\n",
      "   macro avg       0.94      0.94      0.94      4080\n",
      "weighted avg       0.94      0.94      0.94      4080\n",
      "\n"
     ]
    }
   ],
   "source": [
    "print(\"Classification metrics on training set\")\n",
    "print(classification_report(y_train, log_reg.predict(X_train)))\n",
    "print()\n",
    "print(\"Classification metrics on test set\")\n",
    "print(classification_report(y_test, log_reg.predict(X_test)))"
   ]
  },
  {
   "cell_type": "markdown",
   "metadata": {},
   "source": [
    "* We effectively get good results : the positive class f1-score is 0.94 on training set and 0.94 on test set.\n",
    "* More specifically, on our test set, the model is performing 93% correct predictions on positive class, and 95% for the individuals from the negative class."
   ]
  },
  {
   "cell_type": "code",
   "execution_count": 11,
   "metadata": {},
   "outputs": [
    {
     "data": {
      "text/html": [
       "<div>\n",
       "<style scoped>\n",
       "    .dataframe tbody tr th:only-of-type {\n",
       "        vertical-align: middle;\n",
       "    }\n",
       "\n",
       "    .dataframe tbody tr th {\n",
       "        vertical-align: top;\n",
       "    }\n",
       "\n",
       "    .dataframe thead th {\n",
       "        text-align: right;\n",
       "    }\n",
       "</style>\n",
       "<table border=\"1\" class=\"dataframe\">\n",
       "  <thead>\n",
       "    <tr style=\"text-align: right;\">\n",
       "      <th></th>\n",
       "      <th>Coefficient</th>\n",
       "    </tr>\n",
       "  </thead>\n",
       "  <tbody>\n",
       "    <tr>\n",
       "      <th>age</th>\n",
       "      <td>-0.521981</td>\n",
       "    </tr>\n",
       "    <tr>\n",
       "      <th>new_user</th>\n",
       "      <td>-1.581639</td>\n",
       "    </tr>\n",
       "    <tr>\n",
       "      <th>total_pages_visited</th>\n",
       "      <td>4.466979</td>\n",
       "    </tr>\n",
       "    <tr>\n",
       "      <th>country_Germany</th>\n",
       "      <td>3.605528</td>\n",
       "    </tr>\n",
       "    <tr>\n",
       "      <th>country_UK</th>\n",
       "      <td>3.505579</td>\n",
       "    </tr>\n",
       "    <tr>\n",
       "      <th>country_US</th>\n",
       "      <td>3.165444</td>\n",
       "    </tr>\n",
       "    <tr>\n",
       "      <th>source_Direct</th>\n",
       "      <td>-0.087256</td>\n",
       "    </tr>\n",
       "    <tr>\n",
       "      <th>source_Seo</th>\n",
       "      <td>0.086509</td>\n",
       "    </tr>\n",
       "  </tbody>\n",
       "</table>\n",
       "</div>"
      ],
      "text/plain": [
       "                     Coefficient\n",
       "age                    -0.521981\n",
       "new_user               -1.581639\n",
       "total_pages_visited     4.466979\n",
       "country_Germany         3.605528\n",
       "country_UK              3.505579\n",
       "country_US              3.165444\n",
       "source_Direct          -0.087256\n",
       "source_Seo              0.086509"
      ]
     },
     "execution_count": 11,
     "metadata": {},
     "output_type": "execute_result"
    }
   ],
   "source": [
    "coefficient_ranking = pd.DataFrame(\n",
    "    data=log_reg.coef_.reshape(-1, 1),\n",
    "    index=X_train.columns, \n",
    "    columns=[\"Coefficient\"])\n",
    "coefficient_ranking"
   ]
  },
  {
   "cell_type": "code",
   "execution_count": 12,
   "metadata": {},
   "outputs": [
    {
     "data": {
      "image/png": "[encoded data removed]",
      "text/plain": [
       "<Figure size 648x432 with 1 Axes>"
      ]
     },
     "metadata": {},
     "output_type": "display_data"
    }
   ],
   "source": [
    "coefficient_ranking = coefficient_ranking.sort_values(by=\"Coefficient\", ascending=False)\n",
    "\n",
    "plt.figure(figsize=(9,6))\n",
    "sns.barplot(data=coefficient_ranking, x=\"Coefficient\", y=coefficient_ranking.index)\n",
    "plt.ylabel(\"Features\")\n",
    "plt.title(\"Logistic Regression : Coefficients of variables\")\n",
    "plt.show()"
   ]
  },
  {
   "cell_type": "markdown",
   "metadata": {},
   "source": [
    "* Unsurprisingly, the highest coefficient is that of the variable corresponding to the number of pages visited.\n",
    "* The variable __new_user__ plays a role in the conversion of an individual (coefficient greater than 1 in absolute value).\n",
    "* However, we did not anticipate the great influence of the country of connexion in the purchase decision : the coefficients of the three countries (Germany, UK, USA) are greater than 3."
   ]
  },
  {
   "cell_type": "markdown",
   "metadata": {},
   "source": [
    "### Decision Tree"
   ]
  },
  {
   "cell_type": "code",
   "execution_count": 13,
   "metadata": {},
   "outputs": [
    {
     "data": {
      "text/plain": [
       "{'ccp_alpha': 0.0,\n",
       " 'class_weight': None,\n",
       " 'criterion': 'gini',\n",
       " 'max_depth': 5,\n",
       " 'max_features': None,\n",
       " 'max_leaf_nodes': None,\n",
       " 'min_impurity_decrease': 0.0,\n",
       " 'min_impurity_split': None,\n",
       " 'min_samples_leaf': 1,\n",
       " 'min_samples_split': 2,\n",
       " 'min_weight_fraction_leaf': 0.0,\n",
       " 'presort': 'deprecated',\n",
       " 'random_state': None,\n",
       " 'splitter': 'best'}"
      ]
     },
     "execution_count": 13,
     "metadata": {},
     "output_type": "execute_result"
    }
   ],
   "source": [
    "tree_classifier = DecisionTreeClassifier(max_depth=5)\n",
    "tree_classifier.fit(X_train, y_train)\n",
    "tree_classifier.get_params()"
   ]
  },
  {
   "cell_type": "code",
   "execution_count": 14,
   "metadata": {},
   "outputs": [
    {
     "name": "stdout",
     "output_type": "stream",
     "text": [
      "Tree Decision score on training set : 0.9307513175634269\n",
      "Tree Decision score on test set : 0.9316176470588236\n"
     ]
    }
   ],
   "source": [
    "print(\"Tree Decision score on training set :\", tree_classifier.score(X_train, y_train))\n",
    "print(\"Tree Decision score on test set :\", tree_classifier.score(X_test, y_test))"
   ]
  },
  {
   "cell_type": "code",
   "execution_count": 15,
   "metadata": {},
   "outputs": [
    {
     "data": {
      "image/png": "[encoded data removed]",
      "text/plain": [
       "<Figure size 1440x432 with 4 Axes>"
      ]
     },
     "metadata": {},
     "output_type": "display_data"
    }
   ],
   "source": [
    "fig, axs = plt.subplots(figsize=(20,6), nrows=1, ncols=2)\n",
    "plot_confusion_matrix(tree_classifier, X_train, y_train, ax=axs[0], normalize='true', values_format='.4f', cmap=plt.cm.Reds)\n",
    "axs[0].set_title(\"Tree Decision confusion matrix on training set\")\n",
    "axs[0].set_xlabel(\"Predicted Converted\")\n",
    "axs[0].set_ylabel(\"True Converted\")\n",
    "\n",
    "plot_confusion_matrix(tree_classifier, X_test, y_test, ax=axs[1], normalize='true', values_format='.4f', cmap=plt.cm.Greens)\n",
    "axs[1].set_title(\"Tree Decision confusion matrix on test set\")\n",
    "axs[1].set_xlabel(\"Predicted Converted\")\n",
    "axs[1].set_ylabel(\"True Converted\")\n",
    "plt.show()"
   ]
  },
  {
   "cell_type": "markdown",
   "metadata": {},
   "source": [
    "* On training set, our tree decision model predicts the right class for 91.91% of individuals from the negative class and 94.24% of samples from the positive class.\n",
    "* On test set, the model correctly identifies 93.09% of individuals in the negative class ans 93.24% oh users in the positive class."
   ]
  },
  {
   "cell_type": "code",
   "execution_count": 16,
   "metadata": {},
   "outputs": [
    {
     "name": "stdout",
     "output_type": "stream",
     "text": [
      "Tree Decision : classification metrics on training set\n",
      "              precision    recall  f1-score   support\n",
      "\n",
      "           0       0.94      0.92      0.93      8160\n",
      "           1       0.92      0.94      0.93      8158\n",
      "\n",
      "    accuracy                           0.93     16318\n",
      "   macro avg       0.93      0.93      0.93     16318\n",
      "weighted avg       0.93      0.93      0.93     16318\n",
      "\n",
      "\n",
      "Tree Decision : classification metrics on test set\n",
      "              precision    recall  f1-score   support\n",
      "\n",
      "           0       0.93      0.93      0.93      2040\n",
      "           1       0.93      0.93      0.93      2040\n",
      "\n",
      "    accuracy                           0.93      4080\n",
      "   macro avg       0.93      0.93      0.93      4080\n",
      "weighted avg       0.93      0.93      0.93      4080\n",
      "\n"
     ]
    }
   ],
   "source": [
    "print(\"Tree Decision : classification metrics on training set\")\n",
    "print(classification_report(y_train, tree_classifier.predict(X_train)))\n",
    "print()\n",
    "print(\"Tree Decision : classification metrics on test set\")\n",
    "print(classification_report(y_test, tree_classifier.predict(X_test)))"
   ]
  },
  {
   "cell_type": "markdown",
   "metadata": {},
   "source": [
    "* We achieve as good results as with the logistic regression model : the positive class f1-score and the negative class f1-score are the same (0.93) for the two classes, no matter if it concerns the training set or the test set. "
   ]
  },
  {
   "cell_type": "code",
   "execution_count": 17,
   "metadata": {},
   "outputs": [
    {
     "data": {
      "text/html": [
       "<div>\n",
       "<style scoped>\n",
       "    .dataframe tbody tr th:only-of-type {\n",
       "        vertical-align: middle;\n",
       "    }\n",
       "\n",
       "    .dataframe tbody tr th {\n",
       "        vertical-align: top;\n",
       "    }\n",
       "\n",
       "    .dataframe thead th {\n",
       "        text-align: right;\n",
       "    }\n",
       "</style>\n",
       "<table border=\"1\" class=\"dataframe\">\n",
       "  <thead>\n",
       "    <tr style=\"text-align: right;\">\n",
       "      <th></th>\n",
       "      <th>Score</th>\n",
       "    </tr>\n",
       "  </thead>\n",
       "  <tbody>\n",
       "    <tr>\n",
       "      <th>age</th>\n",
       "      <td>0.009157</td>\n",
       "    </tr>\n",
       "    <tr>\n",
       "      <th>new_user</th>\n",
       "      <td>0.028702</td>\n",
       "    </tr>\n",
       "    <tr>\n",
       "      <th>total_pages_visited</th>\n",
       "      <td>0.960713</td>\n",
       "    </tr>\n",
       "    <tr>\n",
       "      <th>country_Germany</th>\n",
       "      <td>0.000000</td>\n",
       "    </tr>\n",
       "    <tr>\n",
       "      <th>country_UK</th>\n",
       "      <td>0.001213</td>\n",
       "    </tr>\n",
       "    <tr>\n",
       "      <th>country_US</th>\n",
       "      <td>0.000214</td>\n",
       "    </tr>\n",
       "    <tr>\n",
       "      <th>source_Direct</th>\n",
       "      <td>0.000000</td>\n",
       "    </tr>\n",
       "    <tr>\n",
       "      <th>source_Seo</th>\n",
       "      <td>0.000000</td>\n",
       "    </tr>\n",
       "  </tbody>\n",
       "</table>\n",
       "</div>"
      ],
      "text/plain": [
       "                        Score\n",
       "age                  0.009157\n",
       "new_user             0.028702\n",
       "total_pages_visited  0.960713\n",
       "country_Germany      0.000000\n",
       "country_UK           0.001213\n",
       "country_US           0.000214\n",
       "source_Direct        0.000000\n",
       "source_Seo           0.000000"
      ]
     },
     "execution_count": 17,
     "metadata": {},
     "output_type": "execute_result"
    }
   ],
   "source": [
    "feature_importance = pd.DataFrame(\n",
    "    data=tree_classifier.feature_importances_.reshape(-1, 1),\n",
    "    index=X_train.columns, \n",
    "    columns=[\"Score\"])\n",
    "feature_importance"
   ]
  },
  {
   "cell_type": "code",
   "execution_count": 18,
   "metadata": {},
   "outputs": [
    {
     "data": {
      "image/png": "[encoded data removed]",
      "text/plain": [
       "<Figure size 648x432 with 1 Axes>"
      ]
     },
     "metadata": {},
     "output_type": "display_data"
    }
   ],
   "source": [
    "feature_importance = feature_importance.sort_values(by=\"Score\", ascending=False)\n",
    "\n",
    "plt.figure(figsize=(9,6))\n",
    "sns.barplot(data=feature_importance, x=\"Score\", y=feature_importance.index)\n",
    "plt.ylabel(\"Features\")\n",
    "plt.title(\"Tree Decision : Importance of variables\")\n",
    "plt.show()"
   ]
  },
  {
   "cell_type": "markdown",
   "metadata": {},
   "source": [
    "* The score of the variable __total_pages_visited__ is much higher than the scores of the other variables. That confirms the preponderant role of this feature, this is what we noticed earlier with the logistic regression. "
   ]
  },
  {
   "cell_type": "markdown",
   "metadata": {},
   "source": [
    "### Random Forest\n",
    "\n",
    "Let us analyse the results obtained after applying a random forest composed of 50 decisions trees."
   ]
  },
  {
   "cell_type": "code",
   "execution_count": 19,
   "metadata": {},
   "outputs": [
    {
     "data": {
      "text/plain": [
       "{'bootstrap': True,\n",
       " 'ccp_alpha': 0.0,\n",
       " 'class_weight': None,\n",
       " 'criterion': 'gini',\n",
       " 'max_depth': 5,\n",
       " 'max_features': 'auto',\n",
       " 'max_leaf_nodes': None,\n",
       " 'max_samples': None,\n",
       " 'min_impurity_decrease': 0.0,\n",
       " 'min_impurity_split': None,\n",
       " 'min_samples_leaf': 1,\n",
       " 'min_samples_split': 2,\n",
       " 'min_weight_fraction_leaf': 0.0,\n",
       " 'n_estimators': 50,\n",
       " 'n_jobs': None,\n",
       " 'oob_score': False,\n",
       " 'random_state': None,\n",
       " 'verbose': 0,\n",
       " 'warm_start': False}"
      ]
     },
     "execution_count": 19,
     "metadata": {},
     "output_type": "execute_result"
    }
   ],
   "source": [
    "rand_forest = RandomForestClassifier(n_estimators=50, max_depth=5)\n",
    "rand_forest.fit(X_train, y_train)\n",
    "rand_forest.get_params()"
   ]
  },
  {
   "cell_type": "code",
   "execution_count": 20,
   "metadata": {},
   "outputs": [
    {
     "name": "stdout",
     "output_type": "stream",
     "text": [
      "Random forest score on training set : 0.9335702904767741\n",
      "Random forest score on test set : 0.9306372549019608\n"
     ]
    }
   ],
   "source": [
    "print(\"Random forest score on training set :\", rand_forest.score(X_train, y_train))\n",
    "print(\"Random forest score on test set :\", rand_forest.score(X_test, y_test))"
   ]
  },
  {
   "cell_type": "code",
   "execution_count": 21,
   "metadata": {},
   "outputs": [
    {
     "data": {
      "image/png": "[encoded data removed]",
      "text/plain": [
       "<Figure size 1440x432 with 4 Axes>"
      ]
     },
     "metadata": {},
     "output_type": "display_data"
    }
   ],
   "source": [
    "fig, axs = plt.subplots(figsize=(20,6), nrows=1, ncols=2)\n",
    "\n",
    "plot_confusion_matrix(rand_forest, X_train, y_train, ax=axs[0], normalize='true', values_format='.4f', cmap=plt.cm.Reds)\n",
    "axs[0].set_title(\"Random Forest confusion matrix on training set\")\n",
    "axs[0].set_xlabel(\"Predicted Converted\")\n",
    "axs[0].set_ylabel(\"True Converted\")\n",
    "\n",
    "plot_confusion_matrix(rand_forest, X_test, y_test, ax=axs[1], normalize='true', values_format='.4f', cmap=plt.cm.Greens)\n",
    "axs[1].set_title(\"Random Forest confusion matrix on test set\")\n",
    "axs[1].set_xlabel(\"Predicted Converted\")\n",
    "axs[1].set_ylabel(\"True Converted\")\n",
    "\n",
    "plt.show()"
   ]
  },
  {
   "cell_type": "markdown",
   "metadata": {},
   "source": [
    "* On training set, our random forest model predicts the right class for 93.11% of individuals from the negative class and 93.6% of users in the positive class.\n",
    "* On test set, the model correctly identifies 93.82% of individuals in the negative class, and 92.3% of users from the positive class."
   ]
  },
  {
   "cell_type": "code",
   "execution_count": 22,
   "metadata": {},
   "outputs": [
    {
     "name": "stdout",
     "output_type": "stream",
     "text": [
      "Random forest : classification metrics on training set\n",
      "              precision    recall  f1-score   support\n",
      "\n",
      "           0       0.94      0.93      0.93      8160\n",
      "           1       0.93      0.94      0.93      8158\n",
      "\n",
      "    accuracy                           0.93     16318\n",
      "   macro avg       0.93      0.93      0.93     16318\n",
      "weighted avg       0.93      0.93      0.93     16318\n",
      "\n",
      "\n",
      "Random forest : classification metrics on test set\n",
      "              precision    recall  f1-score   support\n",
      "\n",
      "           0       0.92      0.94      0.93      2040\n",
      "           1       0.94      0.92      0.93      2040\n",
      "\n",
      "    accuracy                           0.93      4080\n",
      "   macro avg       0.93      0.93      0.93      4080\n",
      "weighted avg       0.93      0.93      0.93      4080\n",
      "\n"
     ]
    }
   ],
   "source": [
    "print(\"Random forest : classification metrics on training set\")\n",
    "print(classification_report(y_true=y_train, y_pred=rand_forest.predict(X_train)))\n",
    "print()\n",
    "print(\"Random forest : classification metrics on test set\")\n",
    "print(classification_report(y_true=y_test, y_pred=rand_forest.predict(X_test)))"
   ]
  },
  {
   "cell_type": "markdown",
   "metadata": {},
   "source": [
    "* The results are still good : the f1-score is equal to 0.93 for the two classes in the training set, and its value is the same in the test set (positive and negative class).\n",
    "* To be more specific, on our test set, the rate of correct predictions made on the negative class is equal to 94%. Besides, over all the individuals labelled as belonging to the positive class, the model has recognized 92% from them. "
   ]
  },
  {
   "cell_type": "code",
   "execution_count": 23,
   "metadata": {},
   "outputs": [
    {
     "data": {
      "text/html": [
       "<div>\n",
       "<style scoped>\n",
       "    .dataframe tbody tr th:only-of-type {\n",
       "        vertical-align: middle;\n",
       "    }\n",
       "\n",
       "    .dataframe tbody tr th {\n",
       "        vertical-align: top;\n",
       "    }\n",
       "\n",
       "    .dataframe thead th {\n",
       "        text-align: right;\n",
       "    }\n",
       "</style>\n",
       "<table border=\"1\" class=\"dataframe\">\n",
       "  <thead>\n",
       "    <tr style=\"text-align: right;\">\n",
       "      <th></th>\n",
       "      <th>Score</th>\n",
       "    </tr>\n",
       "  </thead>\n",
       "  <tbody>\n",
       "    <tr>\n",
       "      <th>age</th>\n",
       "      <td>0.045109</td>\n",
       "    </tr>\n",
       "    <tr>\n",
       "      <th>new_user</th>\n",
       "      <td>0.124886</td>\n",
       "    </tr>\n",
       "    <tr>\n",
       "      <th>total_pages_visited</th>\n",
       "      <td>0.788569</td>\n",
       "    </tr>\n",
       "    <tr>\n",
       "      <th>country_Germany</th>\n",
       "      <td>0.006982</td>\n",
       "    </tr>\n",
       "    <tr>\n",
       "      <th>country_UK</th>\n",
       "      <td>0.019721</td>\n",
       "    </tr>\n",
       "    <tr>\n",
       "      <th>country_US</th>\n",
       "      <td>0.013331</td>\n",
       "    </tr>\n",
       "    <tr>\n",
       "      <th>source_Direct</th>\n",
       "      <td>0.001073</td>\n",
       "    </tr>\n",
       "    <tr>\n",
       "      <th>source_Seo</th>\n",
       "      <td>0.000330</td>\n",
       "    </tr>\n",
       "  </tbody>\n",
       "</table>\n",
       "</div>"
      ],
      "text/plain": [
       "                        Score\n",
       "age                  0.045109\n",
       "new_user             0.124886\n",
       "total_pages_visited  0.788569\n",
       "country_Germany      0.006982\n",
       "country_UK           0.019721\n",
       "country_US           0.013331\n",
       "source_Direct        0.001073\n",
       "source_Seo           0.000330"
      ]
     },
     "execution_count": 23,
     "metadata": {},
     "output_type": "execute_result"
    }
   ],
   "source": [
    "feature_importance_rand_forest = pd.DataFrame(\n",
    "    data=rand_forest.feature_importances_.reshape(-1, 1),\n",
    "    index=X_train.columns, \n",
    "    columns=[\"Score\"])\n",
    "feature_importance_rand_forest"
   ]
  },
  {
   "cell_type": "code",
   "execution_count": 24,
   "metadata": {},
   "outputs": [
    {
     "data": {
      "image/png": "[encoded data removed]",
      "text/plain": [
       "<Figure size 648x432 with 1 Axes>"
      ]
     },
     "metadata": {},
     "output_type": "display_data"
    }
   ],
   "source": [
    "feature_importance_rand_forest = feature_importance_rand_forest.sort_values(by=\"Score\", ascending=False)\n",
    "\n",
    "plt.figure(figsize=(9,6))\n",
    "sns.barplot(data=feature_importance_rand_forest, x=\"Score\", y=feature_importance_rand_forest.index)\n",
    "plt.ylabel(\"Features\")\n",
    "plt.title(\"Random Forest : Importance of features\")\n",
    "plt.show()"
   ]
  },
  {
   "cell_type": "markdown",
   "metadata": {},
   "source": [
    "* In comparison with the tree decision model, we get here a greater importance of the variables __new_user__ and __age__ (the score of __new_user__ is beyond 0.1).\n",
    "* Like the single-tree model, the variable counting the number of pages visited by the users remains very important compared to the other features (its score is far superior to 0.7)."
   ]
  },
  {
   "cell_type": "markdown",
   "metadata": {},
   "source": [
    "## Searching for the best hyperparameters\n",
    "\n",
    "Let us see if we can get better scores by optimising the hyperparameters."
   ]
  },
  {
   "cell_type": "markdown",
   "metadata": {},
   "source": [
    "### Logistic Regression"
   ]
  },
  {
   "cell_type": "code",
   "execution_count": 25,
   "metadata": {},
   "outputs": [
    {
     "data": {
      "text/plain": [
       "{'cv': 4,\n",
       " 'error_score': nan,\n",
       " 'estimator__C': 1.0,\n",
       " 'estimator__class_weight': None,\n",
       " 'estimator__dual': False,\n",
       " 'estimator__fit_intercept': True,\n",
       " 'estimator__intercept_scaling': 1,\n",
       " 'estimator__l1_ratio': None,\n",
       " 'estimator__max_iter': 100,\n",
       " 'estimator__multi_class': 'auto',\n",
       " 'estimator__n_jobs': None,\n",
       " 'estimator__penalty': 'l2',\n",
       " 'estimator__random_state': None,\n",
       " 'estimator__solver': 'lbfgs',\n",
       " 'estimator__tol': 0.0001,\n",
       " 'estimator__verbose': 0,\n",
       " 'estimator__warm_start': False,\n",
       " 'estimator': LogisticRegression(),\n",
       " 'iid': 'deprecated',\n",
       " 'n_jobs': -1,\n",
       " 'param_grid': {'C': [0.1, 0.5, 1, 5, 10, 20, 35, 50]},\n",
       " 'pre_dispatch': '2*n_jobs',\n",
       " 'refit': True,\n",
       " 'return_train_score': False,\n",
       " 'scoring': None,\n",
       " 'verbose': 0}"
      ]
     },
     "execution_count": 25,
     "metadata": {},
     "output_type": "execute_result"
    }
   ],
   "source": [
    "log_reg_estimator = LogisticRegression()\n",
    "params = {'C' : [0.1, 0.5, 1, 5, 10, 20, 35, 50]}\n",
    "\n",
    "log_reg_grid = GridSearchCV(estimator=log_reg_estimator, param_grid=params, cv=4, n_jobs=-1)\n",
    "log_reg_grid.fit(X_train, y_train)\n",
    "log_reg_grid.get_params()"
   ]
  },
  {
   "cell_type": "code",
   "execution_count": 26,
   "metadata": {},
   "outputs": [
    {
     "data": {
      "text/plain": [
       "{'C': 0.5}"
      ]
     },
     "execution_count": 26,
     "metadata": {},
     "output_type": "execute_result"
    }
   ],
   "source": [
    "log_reg_grid.best_params_"
   ]
  },
  {
   "cell_type": "code",
   "execution_count": 27,
   "metadata": {},
   "outputs": [
    {
     "name": "stdout",
     "output_type": "stream",
     "text": [
      "Best Logistic Regression score on training set :  0.9403113126608653\n",
      "Best Logistic Regression score on test set :  0.9384803921568627\n"
     ]
    }
   ],
   "source": [
    "print(\"Best Logistic Regression score on training set : \", log_reg_grid.best_estimator_.score(X_train, y_train))\n",
    "print(\"Best Logistic Regression score on test set : \", log_reg_grid.best_estimator_.score(X_test, y_test))"
   ]
  },
  {
   "cell_type": "code",
   "execution_count": 28,
   "metadata": {},
   "outputs": [
    {
     "data": {
      "image/png": "[encoded data removed]",
      "text/plain": [
       "<Figure size 1440x432 with 4 Axes>"
      ]
     },
     "metadata": {},
     "output_type": "display_data"
    }
   ],
   "source": [
    "fig, axs = plt.subplots(figsize=(20,6), nrows=1, ncols=2)\n",
    "\n",
    "plot_confusion_matrix(log_reg_grid, X_train, y_train, ax=axs[0], normalize='true', values_format='.4f', cmap=plt.cm.Reds)\n",
    "axs[0].set_title(\"Best Logistic Regression confusion matrix on training set\")\n",
    "axs[0].set_xlabel(\"Predicted Converted\")\n",
    "axs[0].set_ylabel(\"True Converted\")\n",
    "\n",
    "plot_confusion_matrix(log_reg_grid, X_test, y_test, ax=axs[1], normalize='true', values_format='.4f', cmap=plt.cm.Greens)\n",
    "axs[1].set_title(\"Best Logistic Regression confusion matrix on test set\")\n",
    "axs[1].set_xlabel(\"Predicted Converted\")\n",
    "axs[1].set_ylabel(\"True Converted\")\n",
    "\n",
    "plt.show()"
   ]
  },
  {
   "cell_type": "code",
   "execution_count": 29,
   "metadata": {},
   "outputs": [
    {
     "name": "stdout",
     "output_type": "stream",
     "text": [
      "Best Logistic Regression : classification metrics on training set\n",
      "              precision    recall  f1-score   support\n",
      "\n",
      "           0       0.94      0.94      0.94      8160\n",
      "           1       0.94      0.94      0.94      8158\n",
      "\n",
      "    accuracy                           0.94     16318\n",
      "   macro avg       0.94      0.94      0.94     16318\n",
      "weighted avg       0.94      0.94      0.94     16318\n",
      "\n",
      "\n",
      "Best Logistic Regression : classification metrics on test set\n",
      "              precision    recall  f1-score   support\n",
      "\n",
      "           0       0.93      0.95      0.94      2040\n",
      "           1       0.95      0.93      0.94      2040\n",
      "\n",
      "    accuracy                           0.94      4080\n",
      "   macro avg       0.94      0.94      0.94      4080\n",
      "weighted avg       0.94      0.94      0.94      4080\n",
      "\n"
     ]
    }
   ],
   "source": [
    "print(\"Best Logistic Regression : classification metrics on training set\")\n",
    "print(classification_report(y_true=y_train, y_pred=log_reg_grid.best_estimator_.predict(X_train)))\n",
    "print()\n",
    "print(\"Best Logistic Regression : classification metrics on test set\")\n",
    "print(classification_report(y_true=y_test, y_pred=log_reg_grid.best_estimator_.predict(X_test)))"
   ]
  },
  {
   "cell_type": "markdown",
   "metadata": {},
   "source": [
    "* In comparison with our logistic regression model, the results are extremely similar.\n",
    "* For the record, the score on the training set was 0.940495 and the score on the test set was equal to 0.938725."
   ]
  },
  {
   "cell_type": "markdown",
   "metadata": {},
   "source": [
    "### Tree Decision or Random Forest\n",
    "\n",
    "As we got a slight improvement of the results with the random forest, we will try to optimize the hyperparameters of this model."
   ]
  },
  {
   "cell_type": "code",
   "execution_count": 30,
   "metadata": {},
   "outputs": [
    {
     "data": {
      "text/plain": [
       "GridSearchCV(cv=4, estimator=RandomForestClassifier(), n_jobs=-1,\n",
       "             param_grid={'max_depth': range(3, 11),\n",
       "                         'n_estimators': range(20, 70, 10)})"
      ]
     },
     "execution_count": 30,
     "metadata": {},
     "output_type": "execute_result"
    }
   ],
   "source": [
    "random_forest_estimator = RandomForestClassifier()\n",
    "params = {\"n_estimators\": range(20, 70, 10),\n",
    "          \"max_depth\" : range(3, 11)\n",
    "          }\n",
    "\n",
    "rand_forest_grid = GridSearchCV(\n",
    "    estimator = random_forest_estimator, \n",
    "    param_grid = params, \n",
    "    n_jobs=-1,\n",
    "    cv=4\n",
    ")\n",
    "\n",
    "rand_forest_grid.fit(X_train, y_train)"
   ]
  },
  {
   "cell_type": "code",
   "execution_count": 31,
   "metadata": {},
   "outputs": [
    {
     "data": {
      "text/plain": [
       "{'max_depth': 8, 'n_estimators': 50}"
      ]
     },
     "execution_count": 31,
     "metadata": {},
     "output_type": "execute_result"
    }
   ],
   "source": [
    "rand_forest_grid.best_params_"
   ]
  },
  {
   "cell_type": "markdown",
   "metadata": {},
   "source": [
    "The random forest model applied earlier was composed of 50 estimators with the maximum depth set at 5."
   ]
  },
  {
   "cell_type": "code",
   "execution_count": 32,
   "metadata": {},
   "outputs": [
    {
     "name": "stdout",
     "output_type": "stream",
     "text": [
      "Best Random Forest score on training set :  0.9442946439514647\n",
      "Best Random Forest score on test set :  0.9370098039215686\n"
     ]
    }
   ],
   "source": [
    "print(\"Best Random Forest score on training set : \", rand_forest_grid.best_estimator_.score(X_train, y_train))\n",
    "print(\"Best Random Forest score on test set : \", rand_forest_grid.best_estimator_.score(X_test, y_test))"
   ]
  },
  {
   "cell_type": "code",
   "execution_count": 33,
   "metadata": {},
   "outputs": [
    {
     "data": {
      "image/png": "[encoded data removed]",
      "text/plain": [
       "<Figure size 1440x432 with 4 Axes>"
      ]
     },
     "metadata": {},
     "output_type": "display_data"
    }
   ],
   "source": [
    "fig, axs = plt.subplots(figsize=(20,6), nrows=1, ncols=2)\n",
    "\n",
    "plot_confusion_matrix(rand_forest_grid, X_train, y_train, ax=axs[0], normalize='true', values_format='.4f', cmap=plt.cm.Reds)\n",
    "axs[0].set_title(\"Best Random Forest confusion matrix on training set\")\n",
    "axs[0].set_ylabel(\"True Converted\")\n",
    "axs[0].set_xlabel(\"Predicted Converted\")\n",
    "\n",
    "plot_confusion_matrix(rand_forest_grid, X_test, y_test, ax=axs[1], normalize='true', values_format='.4f', cmap=plt.cm.Greens)\n",
    "axs[1].set_title(\"Best Random Forest confusion matrix on test set\")\n",
    "axs[1].set_ylabel(\"True Converted\")\n",
    "axs[1].set_xlabel(\"Predicted Converted\")\n",
    "\n",
    "plt.show()"
   ]
  },
  {
   "cell_type": "code",
   "execution_count": 34,
   "metadata": {},
   "outputs": [
    {
     "name": "stdout",
     "output_type": "stream",
     "text": [
      "Best Random Forest : classification metrics on training set\n",
      "              precision    recall  f1-score   support\n",
      "\n",
      "           0       0.95      0.94      0.94      8160\n",
      "           1       0.94      0.95      0.94      8158\n",
      "\n",
      "    accuracy                           0.94     16318\n",
      "   macro avg       0.94      0.94      0.94     16318\n",
      "weighted avg       0.94      0.94      0.94     16318\n",
      "\n",
      "\n",
      "Best Random Forest : classification metrics on test set\n",
      "              precision    recall  f1-score   support\n",
      "\n",
      "           0       0.93      0.94      0.94      2040\n",
      "           1       0.94      0.93      0.94      2040\n",
      "\n",
      "    accuracy                           0.94      4080\n",
      "   macro avg       0.94      0.94      0.94      4080\n",
      "weighted avg       0.94      0.94      0.94      4080\n",
      "\n"
     ]
    }
   ],
   "source": [
    "print(\"Best Random Forest : classification metrics on training set\")\n",
    "print(classification_report(y_true=y_train, y_pred=rand_forest_grid.best_estimator_.predict(X_train)))\n",
    "print()\n",
    "print(\"Best Random Forest : classification metrics on test set\")\n",
    "print(classification_report(y_true=y_test, y_pred=rand_forest_grid.best_estimator_.predict(X_test)))"
   ]
  },
  {
   "cell_type": "markdown",
   "metadata": {},
   "source": [
    "* This new classifier get better results on the training set judging by the global score (0.9442 compared to 0.9335), the confusion matrix and the f1-score for the two classes (0.94 compared to 0.93).\n",
    "* Nevertheless, on testing set, the change is less obvious if we look at the global score (0.9370 compared to 0.9306), and the confusion matrix : \n",
    "    * 93.82% of users from negative class were predicted correctly in the first model versus 94.12% with this model\n",
    "    * 92.3% of users belonging to positive class had good predictions against 93.28% with the optimized model"
   ]
  },
  {
   "cell_type": "markdown",
   "metadata": {},
   "source": [
    "## Comparison of the models"
   ]
  },
  {
   "cell_type": "code",
   "execution_count": 35,
   "metadata": {},
   "outputs": [
    {
     "data": {
      "image/png": "[encoded data removed]",
      "text/plain": [
       "<Figure size 1440x432 with 2 Axes>"
      ]
     },
     "metadata": {},
     "output_type": "display_data"
    }
   ],
   "source": [
    "# Logistic Regression\n",
    "log_reg_roc_auc = roc_auc_score(y_test, log_reg.predict(X_test))\n",
    "fpr, tpr, thresholds = roc_curve(y_test, log_reg.predict_proba(X_test)[:,1])\n",
    "\n",
    "# Tree Decision\n",
    "tree_classifier_roc_auc = roc_auc_score(y_test, tree_classifier.predict(X_test))\n",
    "fpr_tree_classif, tpr_tree_classif, thresholds = roc_curve(y_test, tree_classifier.predict_proba(X_test)[:,1])\n",
    "\n",
    "# Random Forest\n",
    "rand_forest_roc_auc = roc_auc_score(y_test, rand_forest.predict(X_test))\n",
    "fpr_rand_forest, tpr_rand_forest, thresholds = roc_curve(y_test, rand_forest.predict_proba(X_test)[:,1])\n",
    "\n",
    "# Optimised Logistic Regression\n",
    "log_reg_grid_roc_auc = roc_auc_score(y_test, log_reg_grid.predict(X_test))\n",
    "fpr_log_reg_grid, tpr_log_reg_grid, thresholds = roc_curve(y_test, log_reg_grid.predict_proba(X_test)[:,1])\n",
    "\n",
    "# Optimised Random Forest\n",
    "rand_forest_grid_roc_auc = roc_auc_score(y_test, rand_forest_grid.predict(X_test))\n",
    "fpr_rand_forest_grid, tpr_rand_forest_grid, thresholds = roc_curve(y_test, rand_forest_grid.predict_proba(X_test)[:,1])\n",
    "\n",
    "plt.figure(figsize=(20,6))\n",
    "plt.subplot(121)\n",
    "plt.title('ROC Curves')\n",
    "plt.plot([0, 1], [0, 1],'r--', label=\"Random Classifier (area = 0.5)\" )\n",
    "plt.plot(fpr, tpr, label='Logistic Regression (area = %0.4f)' % log_reg_roc_auc)\n",
    "plt.plot(fpr_tree_classif, tpr_tree_classif, label='Tree Decision Classifier (area = %0.4f)' % tree_classifier_roc_auc)\n",
    "plt.plot(fpr_rand_forest, tpr_rand_forest, label='Random Forest (area = %0.4f)' % rand_forest_roc_auc)\n",
    "plt.xlabel('False Positive Rate')\n",
    "plt.ylabel('True Positive Rate')\n",
    "plt.legend(loc=\"lower right\")\n",
    "\n",
    "plt.subplot(122)\n",
    "plt.title('ROC Curves for optimal models')\n",
    "plt.plot([0, 1], [0, 1],'r--', label=\"Random Classifier (area = 0.5)\" )\n",
    "plt.plot(fpr, tpr, label='Optimal Logistic Regression (area = %0.4f)' % log_reg_grid_roc_auc)\n",
    "plt.plot(fpr_rand_forest_grid, tpr_rand_forest_grid, label='Optimal Random Forest (area = %0.4f)' % rand_forest_grid_roc_auc)\n",
    "plt.xlabel('False Positive Rate')\n",
    "plt.ylabel('True Positive Rate')\n",
    "plt.legend(loc=\"lower right\")\n",
    "\n",
    "plt.show()"
   ]
  },
  {
   "cell_type": "code",
   "execution_count": 36,
   "metadata": {},
   "outputs": [],
   "source": [
    "model_comparison = pd.DataFrame(index=[\"Logistic Regression\", \"Tree Decision Classifier\", \"Random Forest\", \n",
    "                                       \"Optimal Logistic Regression\", \"Optimal Random Forest\"])\n",
    "model_comparison[\"Score\"] = [log_reg.score(X_test, y_test), tree_classifier.score(X_test, y_test), \n",
    "                             rand_forest.score(X_test, y_test), log_reg_grid.score(X_test, y_test),\n",
    "                             rand_forest_grid.score(X_test, y_test)]\n",
    "model_comparison[\"Precision\"] = [\n",
    "    precision_score(y_test, log_reg.predict(X_test)),\n",
    "    precision_score(y_test, tree_classifier.predict(X_test)),\n",
    "    precision_score(y_test, rand_forest.predict(X_test)),\n",
    "    precision_score(y_test, log_reg_grid.predict(X_test)),\n",
    "    precision_score(y_test, rand_forest_grid.predict(X_test))\n",
    "]\n",
    "model_comparison[\"Recall\"] = [\n",
    "    recall_score(y_test, log_reg.predict(X_test)),\n",
    "    recall_score(y_test, tree_classifier.predict(X_test)),\n",
    "    recall_score(y_test, rand_forest.predict(X_test)),\n",
    "    recall_score(y_test, log_reg_grid.predict(X_test)),\n",
    "    recall_score(y_test, rand_forest_grid.predict(X_test))\n",
    "]"
   ]
  },
  {
   "cell_type": "code",
   "execution_count": 37,
   "metadata": {},
   "outputs": [
    {
     "data": {
      "text/html": [
       "<div>\n",
       "<style scoped>\n",
       "    .dataframe tbody tr th:only-of-type {\n",
       "        vertical-align: middle;\n",
       "    }\n",
       "\n",
       "    .dataframe tbody tr th {\n",
       "        vertical-align: top;\n",
       "    }\n",
       "\n",
       "    .dataframe thead th {\n",
       "        text-align: right;\n",
       "    }\n",
       "</style>\n",
       "<table border=\"1\" class=\"dataframe\">\n",
       "  <thead>\n",
       "    <tr style=\"text-align: right;\">\n",
       "      <th></th>\n",
       "      <th>Score</th>\n",
       "      <th>Precision</th>\n",
       "      <th>Recall</th>\n",
       "    </tr>\n",
       "  </thead>\n",
       "  <tbody>\n",
       "    <tr>\n",
       "      <th>Logistic Regression</th>\n",
       "      <td>0.938725</td>\n",
       "      <td>0.946162</td>\n",
       "      <td>0.930392</td>\n",
       "    </tr>\n",
       "    <tr>\n",
       "      <th>Tree Decision Classifier</th>\n",
       "      <td>0.931618</td>\n",
       "      <td>0.930984</td>\n",
       "      <td>0.932353</td>\n",
       "    </tr>\n",
       "    <tr>\n",
       "      <th>Random Forest</th>\n",
       "      <td>0.930637</td>\n",
       "      <td>0.937282</td>\n",
       "      <td>0.923039</td>\n",
       "    </tr>\n",
       "    <tr>\n",
       "      <th>Optimal Logistic Regression</th>\n",
       "      <td>0.938480</td>\n",
       "      <td>0.946135</td>\n",
       "      <td>0.929902</td>\n",
       "    </tr>\n",
       "    <tr>\n",
       "      <th>Optimal Random Forest</th>\n",
       "      <td>0.937010</td>\n",
       "      <td>0.940682</td>\n",
       "      <td>0.932843</td>\n",
       "    </tr>\n",
       "  </tbody>\n",
       "</table>\n",
       "</div>"
      ],
      "text/plain": [
       "                                Score  Precision    Recall\n",
       "Logistic Regression          0.938725   0.946162  0.930392\n",
       "Tree Decision Classifier     0.931618   0.930984  0.932353\n",
       "Random Forest                0.930637   0.937282  0.923039\n",
       "Optimal Logistic Regression  0.938480   0.946135  0.929902\n",
       "Optimal Random Forest        0.937010   0.940682  0.932843"
      ]
     },
     "execution_count": 37,
     "metadata": {},
     "output_type": "execute_result"
    }
   ],
   "source": [
    "model_comparison"
   ]
  },
  {
   "cell_type": "markdown",
   "metadata": {},
   "source": [
    "In the light of the ROC curves, accuracy scores, precision scores and recall scores, the logistic regression model is the best. Therefore, it is this one that we will use to make predictions for the new Internet users who are going to consult the website. "
   ]
  },
  {
   "cell_type": "markdown",
   "metadata": {},
   "source": [
    "## Conclusion\n",
    "\n",
    "* At the end of the Data Understanding section, we had identified the role that three pieces of information could play in a user's propensity to make a purchase :\n",
    "    - the total number of pages visited\n",
    "    - the age of the individual\n",
    "    - whether it is a new user or a person who has visited the site before\n",
    "* In the Machine Learning section, through the various trained models, our intuitions were confirmed by the analysis of the different results. We have seen above all the very great importance of the number of pages visited in decision making, then come in a lesser (but not negligible) extent the information about the first user's visit or not, then his age. \n",
    "* The selected model allows us to state that the more the number of pages visited increases, the bigger is the probability that the user makes a purchase. Elsewhere, to a lesser degree, if the user is consulting the website for the first time, or if the user is elderly  (the average age of users who convert is 25), they are less likely to make a purchase.\n",
    "* We therefore recommend that the site maintenance team focus on features that not only drive the user to more pages, but also keep them coming back for more. Keeping up with the new trends that young people between the ages of 18 and 31 are following is also an avenue to pursue."
   ]
  }
 ],
 "metadata": {
  "kernelspec": {
   "display_name": "Python 3",
   "language": "python",
   "name": "python3"
  },
  "language_info": {
   "codemirror_mode": {
    "name": "ipython",
    "version": 3
   },
   "file_extension": ".py",
   "mimetype": "text/x-python",
   "name": "python",
   "nbconvert_exporter": "python",
   "pygments_lexer": "ipython3",
   "version": "3.6.0"
  }
 },
 "nbformat": 4,
 "nbformat_minor": 2
}
